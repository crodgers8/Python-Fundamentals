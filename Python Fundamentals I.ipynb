{
 "cells": [
  {
   "cell_type": "markdown",
   "metadata": {},
   "source": [
    "# Python Fundamentals I\n",
    "Welcome to the first lesson! This Jupyter Notebook file is meant to accompany **L01 - Python Fundamentals I**\n",
    "\n",
    "Beneath each blue <font color = 'blue'> **EXERCISE**</font>, there is a code cell that looks like this:"
   ]
  },
  {
   "cell_type": "code",
   "execution_count": null,
   "metadata": {},
   "outputs": [],
   "source": []
  },
  {
   "cell_type": "markdown",
   "metadata": {},
   "source": [
    "Type your answer in the code cell, and then press **Shift + Enter** to execute your code. Then, check the solution in the PDF to see how you did!"
   ]
  },
  {
   "cell_type": "markdown",
   "metadata": {},
   "source": [
    "### 1. Jupyter Notebook\n",
    "If you are reading this, you are ready to go!"
   ]
  },
  {
   "cell_type": "markdown",
   "metadata": {},
   "source": [
    "### 2. Calculations"
   ]
  },
  {
   "cell_type": "code",
   "execution_count": 1,
   "metadata": {},
   "outputs": [
    {
     "name": "stdout",
     "output_type": "stream",
     "text": [
      "1.0\n",
      "100\n"
     ]
    }
   ],
   "source": [
    "# Lesson Workspace\n",
    "\n",
    "print( 10 / 10 )\n",
    "print( 10 * 10 )\n",
    "\n",
    "\n",
    "\n"
   ]
  },
  {
   "cell_type": "markdown",
   "metadata": {},
   "source": [
    "<font color = 'blue'> **EXERCISE 2.1** </font>"
   ]
  },
  {
   "cell_type": "code",
   "execution_count": 2,
   "metadata": {},
   "outputs": [
    {
     "name": "stdout",
     "output_type": "stream",
     "text": [
      "0.5\n",
      "-111\n",
      "369630\n",
      "0.875\n"
     ]
    }
   ],
   "source": [
    "print( 111 / 222 )\n",
    "print( 333 - 444 )\n",
    "print( 555 * 666 )\n",
    "print( 777 / 888)\n"
   ]
  },
  {
   "cell_type": "markdown",
   "metadata": {},
   "source": [
    "### 3. Text Outputs"
   ]
  },
  {
   "cell_type": "code",
   "execution_count": null,
   "metadata": {},
   "outputs": [],
   "source": [
    "# Lesson Workspace\n",
    "\n"
   ]
  },
  {
   "cell_type": "code",
   "execution_count": 3,
   "metadata": {},
   "outputs": [
    {
     "name": "stdout",
     "output_type": "stream",
     "text": [
      "Please wait while the application loads\n"
     ]
    }
   ],
   "source": [
    "# Single quotes\n",
    "print( 'Please wait while the application loads' )"
   ]
  },
  {
   "cell_type": "code",
   "execution_count": 4,
   "metadata": {},
   "outputs": [
    {
     "name": "stdout",
     "output_type": "stream",
     "text": [
      "Please wait while the application loads\n"
     ]
    }
   ],
   "source": [
    "# Double quotes\n",
    "print( \"Please wait while the application loads\" )"
   ]
  },
  {
   "cell_type": "code",
   "execution_count": null,
   "metadata": {},
   "outputs": [],
   "source": [
    "# When using its and it's use double quotes "
   ]
  },
  {
   "cell_type": "code",
   "execution_count": null,
   "metadata": {},
   "outputs": [],
   "source": [
    "# Format() allows you to have static text but insert dynamic values but want it to be displayed with a conssitent format "
   ]
  },
  {
   "cell_type": "code",
   "execution_count": 6,
   "metadata": {},
   "outputs": [
    {
     "name": "stdout",
     "output_type": "stream",
     "text": [
      " CUSIP = 23421231; Coupon = 3.375\n",
      " CUSIP = 23421231; Coupon = 3.375\n"
     ]
    }
   ],
   "source": [
    "print(' CUSIP = 23421231; Coupon = 3.375')\n",
    "print(' CUSIP = {}; Coupon = {}' .format('23421231', '3.375'))\n"
   ]
  },
  {
   "cell_type": "markdown",
   "metadata": {},
   "source": [
    "<font color = 'blue'> **EXERCISE 3.1** </font>"
   ]
  },
  {
   "cell_type": "code",
   "execution_count": 9,
   "metadata": {},
   "outputs": [
    {
     "name": "stdout",
     "output_type": "stream",
     "text": [
      " Price = $220; EPS = $10; P/E = 22.0\n"
     ]
    }
   ],
   "source": [
    "print( ' Price = ${}; EPS = ${}; P/E = {}' .format(220, 10, 220/10))\n",
    "      "
   ]
  },
  {
   "cell_type": "markdown",
   "metadata": {},
   "source": [
    "### 4. Variables"
   ]
  },
  {
   "cell_type": "code",
   "execution_count": 10,
   "metadata": {},
   "outputs": [
    {
     "name": "stdout",
     "output_type": "stream",
     "text": [
      "Price = $220; EPS = $10; P/E = 22.0\n"
     ]
    }
   ],
   "source": [
    "# Lesson Workspace\n",
    "# ' ' is a string that is a variable/text no '' means its a number and can do the math \n",
    "# Use descritptive variable names not just A, B, C \n",
    "p = 220\n",
    "eps = 10\n",
    "print( 'Price = ${}; EPS = ${}; P/E = {}' .format(p, eps, p / eps))\n"
   ]
  },
  {
   "cell_type": "code",
   "execution_count": null,
   "metadata": {},
   "outputs": [],
   "source": []
  },
  {
   "cell_type": "markdown",
   "metadata": {},
   "source": [
    "<font color = 'blue'> **EXERCISE 4.1** </font>"
   ]
  },
  {
   "cell_type": "code",
   "execution_count": 11,
   "metadata": {},
   "outputs": [],
   "source": [
    "# Apple Data\n",
    "a_mcap = 896473\n",
    "a_pref = 0\n",
    "a_ltdebt = 97128\n",
    "a_cltdebt = 17472\n",
    "a_mint = 0\n",
    "a_cash = 70970\n",
    "a_q3_17 = 17067\n",
    "a_q4_17 = 30509\n",
    "a_q1_18 = 19699\n",
    "a_q2_18 = 16795\n",
    "\n",
    "\n",
    "# Microsoft Data\n",
    "m_mcap = 757029\n",
    "m_pref = 0\n",
    "m_ltdebt = 72242\n",
    "m_cltdebt = 3998\n",
    "m_mint = 0\n",
    "m_cash = 133768\n",
    "m_q3_17 = 11155\n",
    "m_q4_17 = 12403\n",
    "m_q1_18 = 12042\n",
    "m_q2_18 = 13868\n"
   ]
  },
  {
   "cell_type": "code",
   "execution_count": 13,
   "metadata": {},
   "outputs": [],
   "source": [
    "# Defining varaible names \n",
    "a_ev = a_mcap + a_pref + a_ltdebt + a_cltdebt + a_mint - a_cash\n",
    "a_ltm_ebitda = a_q3_17 + a_q4_17 + a_q1_18 + a_q2_18\n",
    "m_ev = m_mcap + m_pref + m_ltdebt + m_cltdebt + m_mint - m_cash\n",
    "m_ltm_ebitda = m_q3_17 + m_q4_17 + m_q1_18 + m_q2_18"
   ]
  },
  {
   "cell_type": "code",
   "execution_count": 15,
   "metadata": {},
   "outputs": [],
   "source": [
    "a_ev_ebitda = a_ev / a_ltm_ebitda\n",
    "m_ev_ebitda = m_ev / m_ltm_ebitda"
   ]
  },
  {
   "cell_type": "code",
   "execution_count": 17,
   "metadata": {},
   "outputs": [
    {
     "name": "stdout",
     "output_type": "stream",
     "text": [
      "AAPL EV = 940103\n",
      "AAPL LTM EBITDA = 84070\n",
      "AAPL EV / EBITDA = 11.18\n",
      "-\n",
      "MSFT EV = 699501\n",
      "MSFT LTM EBITDA = 49468\n",
      "MSFT EV / EBITDA = 14.14\n",
      "-\n",
      "AAPL's ratio is greater than MSFT's: False\n"
     ]
    }
   ],
   "source": [
    "compare = a_ev_ebitda > m_ev_ebitda\n",
    "print('AAPL EV = {}' .format(a_ev))\n",
    "print('AAPL LTM EBITDA = {}' .format(a_ltm_ebitda))\n",
    "print('AAPL EV / EBITDA = {}' .format(round(a_ev_ebitda, 2)))\n",
    "print('-')\n",
    "print('MSFT EV = {}' .format(m_ev))\n",
    "print('MSFT LTM EBITDA = {}' .format(m_ltm_ebitda))\n",
    "print('MSFT EV / EBITDA = {}' .format(round(m_ev_ebitda, 2)))\n",
    "print('-')\n",
    "print('AAPL\\'s ratio is greater than MSFT\\'s: {}' .format(compare))\n"
   ]
  },
  {
   "cell_type": "code",
   "execution_count": null,
   "metadata": {},
   "outputs": [],
   "source": []
  }
 ],
 "metadata": {
  "kernelspec": {
   "display_name": "Python 3",
   "language": "python",
   "name": "python3"
  },
  "language_info": {
   "codemirror_mode": {
    "name": "ipython",
    "version": 3
   },
   "file_extension": ".py",
   "mimetype": "text/x-python",
   "name": "python",
   "nbconvert_exporter": "python",
   "pygments_lexer": "ipython3",
   "version": "3.8.3"
  }
 },
 "nbformat": 4,
 "nbformat_minor": 2
}
