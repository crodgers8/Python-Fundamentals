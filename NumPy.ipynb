{
 "cells": [
  {
   "cell_type": "markdown",
   "metadata": {},
   "source": [
    "# NumPy\n",
    "Welcome to the fourth lesson! This Jupyter Notebook file is meant to accompany **L04 - NumPy.**"
   ]
  },
  {
   "cell_type": "markdown",
   "metadata": {},
   "source": [
    "Type your solutions for each exercise in the code cells below, and then press **Shift + Enter** to execute your code. Then, check the solution video to see how you did!"
   ]
  },
  {
   "cell_type": "markdown",
   "metadata": {},
   "source": [
    "### 1. Introduction to NumPy"
   ]
  },
  {
   "cell_type": "markdown",
   "metadata": {},
   "source": [
    "### 2. NumPy Arrays"
   ]
  },
  {
   "cell_type": "code",
   "execution_count": null,
   "metadata": {},
   "outputs": [],
   "source": [
    "#Imports a module of code called math. Calls custom log function \n",
    "import math \n",
    "math.log(10)"
   ]
  },
  {
   "cell_type": "code",
   "execution_count": null,
   "metadata": {},
   "outputs": [],
   "source": [
    "#Function for random sampling, creating randomized data\n",
    "import numpy as np"
   ]
  },
  {
   "cell_type": "code",
   "execution_count": null,
   "metadata": {},
   "outputs": [],
   "source": [
    "#np.tab - Functions \n",
    "np.function "
   ]
  },
  {
   "cell_type": "code",
   "execution_count": 1,
   "metadata": {},
   "outputs": [],
   "source": [
    "import numpy as np"
   ]
  },
  {
   "cell_type": "code",
   "execution_count": 2,
   "metadata": {},
   "outputs": [
    {
     "name": "stdout",
     "output_type": "stream",
     "text": [
      "[1 2 3 4 5]\n"
     ]
    }
   ],
   "source": [
    "array_1 = np.array([1, 2, 3, 4, 5])\n",
    "print(array_1)"
   ]
  },
  {
   "cell_type": "markdown",
   "metadata": {},
   "source": [
    "<font color = 'blue'> **EXERCISE 2.1** </font>"
   ]
  },
  {
   "cell_type": "code",
   "execution_count": 4,
   "metadata": {},
   "outputs": [
    {
     "name": "stdout",
     "output_type": "stream",
     "text": [
      "[[1 2]\n",
      " [3 4]\n",
      " [5 6]]\n",
      "---\n",
      "(3, 2)\n"
     ]
    }
   ],
   "source": [
    "#All objects in a numpy array must be the same object \n",
    "#Square brackets indicate a list of list \n",
    "import numpy as np\n",
    "\n",
    "array_1 = np.array([ [1, 2], [3, 4], [5, 6] ])\n",
    "\n",
    "print(array_1)\n",
    "print('---') #Space\n",
    "print(array_1.shape) # Print shape of array 1"
   ]
  },
  {
   "cell_type": "markdown",
   "metadata": {},
   "source": [
    "<font color = 'blue'> **EXERCISE 2.2** </font>"
   ]
  },
  {
   "cell_type": "code",
   "execution_count": 8,
   "metadata": {},
   "outputs": [],
   "source": [
    "#Create a new array, array_b, by reshaping array_a to 6 rows and 4 columns\n",
    "#Print array_b\n",
    "#Use ranges, print \"new york stock exchange\" from array_b with a new line for each word (you will call the print function four times) \n",
    "array_a = np.array([\n",
    "    ['n', 'e', 'w', 'y', '_', 's'],\n",
    "    ['t', 'o', 'c', 'k', '_', 'r'],\n",
    "    ['_', '_', '_', 'k', 'e', 'x'],\n",
    "    ['c', 'h', 'a', 'n', 'g', 'e']\n",
    "])"
   ]
  },
  {
   "cell_type": "code",
   "execution_count": 3,
   "metadata": {},
   "outputs": [
    {
     "name": "stdout",
     "output_type": "stream",
     "text": [
      "[['n' 'e' 'w' 'y']\n",
      " ['_' 's' 't' 'o']\n",
      " ['c' 'k' '_' 'r']\n",
      " ['_' '_' '_' 'k']\n",
      " ['e' 'x' 'c' 'h']\n",
      " ['a' 'n' 'g' 'e']]\n"
     ]
    }
   ],
   "source": [
    "# Reshape to 6 rows and 4 columns and print\n",
    "array_b = array_a.reshape(6, 4)\n",
    "print(array_b)\n"
   ]
  },
  {
   "cell_type": "code",
   "execution_count": 4,
   "metadata": {},
   "outputs": [
    {
     "name": "stdout",
     "output_type": "stream",
     "text": [
      "['n' 'e' 'w']\n",
      "['y' 'o' 'r' 'k']\n",
      "['s' 't' 'o'] ['c' 'k']\n",
      "['e' 'x' 'c' 'h'] ['a' 'n' 'g' 'e']\n"
     ]
    }
   ],
   "source": [
    "# Print 'new york stock exchange' from array_b (one word per line)\n",
    "print(array_b[0, :3]) #0 indicates we are looking at first row. 3 we are excluding y\n",
    "print(array_b[:4, 3])\n",
    "print(array_b[1, 1:], array_b[2, :2])\n",
    "print(array_b[4, :], array_b[5, :]) #: Indicates we want the entire 5th row"
   ]
  },
  {
   "cell_type": "markdown",
   "metadata": {},
   "source": [
    "### 3. NumPy Array Functions"
   ]
  },
  {
   "cell_type": "markdown",
   "metadata": {},
   "source": [
    "<font color = 'blue'> **EXERCISE 3.1** </font>"
   ]
  },
  {
   "cell_type": "code",
   "execution_count": 5,
   "metadata": {},
   "outputs": [],
   "source": [
    "#Create a new array called price_increases by subtracting current_prices from target_prices\n",
    "#Print prince_increases\n",
    "#Create a new array called returns by dividing price_increases by current_prices and rounding the result to 3 decimal places\n",
    "#Print returns\n",
    "#Print the maximum value in returns\n",
    "#Print the mean returns for each industry column rounded to 3 decimal places\n",
    "\n",
    "current_prices = np.array([\n",
    "    [223.84, 113.5, 139.49],\n",
    "    [113.37, 30.37, 265.31],\n",
    "    [1177.98, 54.73, 42.96],\n",
    "])\n",
    "\n",
    "target_prices = np.array([\n",
    "    [232.27, 112.15, 144.2],\n",
    "    [122.3, 34.33, 284.14],\n",
    "    [1384.89, 62.12, 43.06],\n",
    "])"
   ]
  },
  {
   "cell_type": "code",
   "execution_count": 6,
   "metadata": {},
   "outputs": [
    {
     "name": "stdout",
     "output_type": "stream",
     "text": [
      "[[ 8.4300e+00 -1.3500e+00  4.7100e+00]\n",
      " [ 8.9300e+00  3.9600e+00  1.8830e+01]\n",
      " [ 2.0691e+02  7.3900e+00  1.0000e-01]]\n",
      "---\n",
      "[[ 0.038 -0.012  0.034]\n",
      " [ 0.079  0.13   0.071]\n",
      " [ 0.176  0.135  0.002]]\n",
      "---\n",
      "0.176\n",
      "---\n",
      "[0.098 0.084 0.036]\n"
     ]
    }
   ],
   "source": [
    "price_increases = target_prices - current_prices\n",
    "print(price_increases)\n",
    "print('---')\n",
    "\n",
    "returns = np.round(price_increases / current_prices, 3)\n",
    "print(returns)\n",
    "print('---')\n",
    "\n",
    "print(np.max(returns))\n",
    "print('---')\n",
    "\n",
    "print(np.round(np.mean(returns, axis=0), 3))"
   ]
  },
  {
   "cell_type": "markdown",
   "metadata": {},
   "source": [
    "### 4. NumPy Random Tools"
   ]
  },
  {
   "cell_type": "markdown",
   "metadata": {},
   "source": [
    "<font color = 'blue'> **EXERCISE 4.1** </font>"
   ]
  },
  {
   "cell_type": "code",
   "execution_count": 9,
   "metadata": {},
   "outputs": [
    {
     "name": "stdout",
     "output_type": "stream",
     "text": [
      "[[ 2  4  9 10  9]\n",
      " [19  5  6 21  2]\n",
      " [24  4 24 18  2]\n",
      " [17  7 12 21 24]\n",
      " [ 3  1 13  9  9]]\n",
      "---\n",
      "[ 2  5 21  6 21]\n",
      "---\n",
      "[[ 1  2  3  4  5]\n",
      " [ 6  7  8  9 10]\n",
      " [11 12 13 14 15]\n",
      " [16 17 18 19 20]\n",
      " [21 22 23 24 25]]\n",
      "---\n",
      "[13 18  8  3 23]\n"
     ]
    }
   ],
   "source": [
    "#Set the random seed to 99\n",
    "#Generate an array of random integers between 1 and 25 named rand_array with 5 rows and 5 columns\n",
    "#Print rand_array\n",
    "#Choose and print a random sample of 5 numbers from the second row of rand_array with replacement\n",
    "#Generate an array of ordered integers from 1 to 25 named ordered_array and reshape to 5 rows and 5 columns\n",
    "#Print order_array\n",
    "#Choose and print a random sample of 5 numbers from the third column of ordered_array without replacement\n",
    "\n",
    "np.random.seed(99)\n",
    "\n",
    "rand_array = np.random.randint(1, 26, [5, 5])\n",
    "print(rand_array)\n",
    "print('---')\n",
    "\n",
    "print(np.random.choice(rand_array[1, :], 5))\n",
    "print('---')\n",
    "\n",
    "ordered_array = np.array(range(1, 26)).reshape(5, 5)\n",
    "print(ordered_array)\n",
    "print('---')\n",
    "\n",
    "print(np.random.choice(ordered_array[:, 2], 5, replace=False))"
   ]
  },
  {
   "cell_type": "code",
   "execution_count": null,
   "metadata": {},
   "outputs": [],
   "source": []
  }
 ],
 "metadata": {
  "kernelspec": {
   "display_name": "Python 3 (ipykernel)",
   "language": "python",
   "name": "python3"
  },
  "language_info": {
   "codemirror_mode": {
    "name": "ipython",
    "version": 3
   },
   "file_extension": ".py",
   "mimetype": "text/x-python",
   "name": "python",
   "nbconvert_exporter": "python",
   "pygments_lexer": "ipython3",
   "version": "3.9.12"
  }
 },
 "nbformat": 4,
 "nbformat_minor": 2
}
