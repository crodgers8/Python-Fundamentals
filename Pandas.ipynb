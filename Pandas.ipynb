{
 "cells": [
  {
   "cell_type": "markdown",
   "metadata": {},
   "source": [
    "# Pandas\n",
    "Welcome to the fifth lesson! This Jupyter Notebook file is meant to accompany **L05 - Pandas.**"
   ]
  },
  {
   "cell_type": "markdown",
   "metadata": {},
   "source": [
    "Type your solutions for each exercise in the code cells below, and then press **Shift + Enter** to execute your code. Then, check the solution video to see how you did!"
   ]
  },
  {
   "cell_type": "markdown",
   "metadata": {},
   "source": [
    "### 1. Introduction to Pandas"
   ]
  },
  {
   "cell_type": "markdown",
   "metadata": {},
   "source": [
    "### 2. New Object Type: Pandas DataFrames"
   ]
  },
  {
   "cell_type": "markdown",
   "metadata": {},
   "source": [
    "<font color = 'blue'> **EXERCISE 2.1** </font>"
   ]
  },
  {
   "cell_type": "code",
   "execution_count": 46,
   "metadata": {},
   "outputs": [
    {
     "data": {
      "text/plain": [
       "(100, 7)"
      ]
     },
     "execution_count": 46,
     "metadata": {},
     "output_type": "execute_result"
    }
   ],
   "source": [
    "#Import Pandas with the alias pd\n",
    "#Import Stock Data.cvs into a new DataFrame named stock_data\n",
    "#Display the dimensions of stock_data\n",
    "#In a new cell, display the first three rows of stock_data\n",
    "#In a new cell, display the last three rows of stock_data\n",
    "\n",
    "import pandas as pd\n",
    "stock_data = pd.read_csv('C:\\\\Users\\\\colby\\\\OneDrive\\\\Documents\\\\data1.csv')\n",
    "stock_data.shape"
   ]
  },
  {
   "cell_type": "code",
   "execution_count": 47,
   "metadata": {},
   "outputs": [
    {
     "data": {
      "text/html": [
       "<div>\n",
       "<style scoped>\n",
       "    .dataframe tbody tr th:only-of-type {\n",
       "        vertical-align: middle;\n",
       "    }\n",
       "\n",
       "    .dataframe tbody tr th {\n",
       "        vertical-align: top;\n",
       "    }\n",
       "\n",
       "    .dataframe thead th {\n",
       "        text-align: right;\n",
       "    }\n",
       "</style>\n",
       "<table border=\"1\" class=\"dataframe\">\n",
       "  <thead>\n",
       "    <tr style=\"text-align: right;\">\n",
       "      <th></th>\n",
       "      <th>Ticker</th>\n",
       "      <th>Name</th>\n",
       "      <th>Sector</th>\n",
       "      <th>Beta</th>\n",
       "      <th>Market Cap</th>\n",
       "      <th>Current Price</th>\n",
       "      <th>Price Target</th>\n",
       "    </tr>\n",
       "  </thead>\n",
       "  <tbody>\n",
       "    <tr>\n",
       "      <th>0</th>\n",
       "      <td>AAPL</td>\n",
       "      <td>APPLE INC</td>\n",
       "      <td>Information Technology</td>\n",
       "      <td>1.09</td>\n",
       "      <td>1081130615</td>\n",
       "      <td>223.84</td>\n",
       "      <td>232.27</td>\n",
       "    </tr>\n",
       "    <tr>\n",
       "      <th>1</th>\n",
       "      <td>AMZN</td>\n",
       "      <td>AMAZON.COM INC</td>\n",
       "      <td>Consumer Discretionary</td>\n",
       "      <td>1.23</td>\n",
       "      <td>960942834</td>\n",
       "      <td>1970.19</td>\n",
       "      <td>2133.39</td>\n",
       "    </tr>\n",
       "    <tr>\n",
       "      <th>2</th>\n",
       "      <td>MSFT</td>\n",
       "      <td>MICROSOFT CORP</td>\n",
       "      <td>Information Technology</td>\n",
       "      <td>1.46</td>\n",
       "      <td>869345788</td>\n",
       "      <td>113.37</td>\n",
       "      <td>122.30</td>\n",
       "    </tr>\n",
       "  </tbody>\n",
       "</table>\n",
       "</div>"
      ],
      "text/plain": [
       "  Ticker            Name                  Sector  Beta  Market Cap  \\\n",
       "0   AAPL       APPLE INC  Information Technology  1.09  1081130615   \n",
       "1   AMZN  AMAZON.COM INC  Consumer Discretionary  1.23   960942834   \n",
       "2   MSFT  MICROSOFT CORP  Information Technology  1.46   869345788   \n",
       "\n",
       "   Current Price  Price Target  \n",
       "0         223.84        232.27  \n",
       "1        1970.19       2133.39  \n",
       "2         113.37        122.30  "
      ]
     },
     "execution_count": 47,
     "metadata": {},
     "output_type": "execute_result"
    }
   ],
   "source": [
    "stock_data.head(3)#Brings up the first 3 rows"
   ]
  },
  {
   "cell_type": "code",
   "execution_count": 48,
   "metadata": {},
   "outputs": [
    {
     "data": {
      "text/html": [
       "<div>\n",
       "<style scoped>\n",
       "    .dataframe tbody tr th:only-of-type {\n",
       "        vertical-align: middle;\n",
       "    }\n",
       "\n",
       "    .dataframe tbody tr th {\n",
       "        vertical-align: top;\n",
       "    }\n",
       "\n",
       "    .dataframe thead th {\n",
       "        text-align: right;\n",
       "    }\n",
       "</style>\n",
       "<table border=\"1\" class=\"dataframe\">\n",
       "  <thead>\n",
       "    <tr style=\"text-align: right;\">\n",
       "      <th></th>\n",
       "      <th>Ticker</th>\n",
       "      <th>Name</th>\n",
       "      <th>Sector</th>\n",
       "      <th>Beta</th>\n",
       "      <th>Market Cap</th>\n",
       "      <th>Current Price</th>\n",
       "      <th>Price Target</th>\n",
       "    </tr>\n",
       "  </thead>\n",
       "  <tbody>\n",
       "    <tr>\n",
       "      <th>97</th>\n",
       "      <td>ADP</td>\n",
       "      <td>AUTOMATIC DATA</td>\n",
       "      <td>Information Technology</td>\n",
       "      <td>0.96</td>\n",
       "      <td>64599683</td>\n",
       "      <td>147.46</td>\n",
       "      <td>145.73</td>\n",
       "    </tr>\n",
       "    <tr>\n",
       "      <th>98</th>\n",
       "      <td>MOLZ</td>\n",
       "      <td>MONDELEZ INTER-A</td>\n",
       "      <td>Consumer Staples</td>\n",
       "      <td>0.74</td>\n",
       "      <td>64235373</td>\n",
       "      <td>43.80</td>\n",
       "      <td>49.20</td>\n",
       "    </tr>\n",
       "    <tr>\n",
       "      <th>99</th>\n",
       "      <td>AGN</td>\n",
       "      <td>ALLERGAN PLC</td>\n",
       "      <td>Health Care</td>\n",
       "      <td>1.01</td>\n",
       "      <td>63890227</td>\n",
       "      <td>188.22</td>\n",
       "      <td>211.68</td>\n",
       "    </tr>\n",
       "  </tbody>\n",
       "</table>\n",
       "</div>"
      ],
      "text/plain": [
       "   Ticker              Name                  Sector  Beta  Market Cap  \\\n",
       "97    ADP    AUTOMATIC DATA  Information Technology  0.96    64599683   \n",
       "98   MOLZ  MONDELEZ INTER-A        Consumer Staples  0.74    64235373   \n",
       "99    AGN      ALLERGAN PLC             Health Care  1.01    63890227   \n",
       "\n",
       "    Current Price  Price Target  \n",
       "97         147.46        145.73  \n",
       "98          43.80         49.20  \n",
       "99         188.22        211.68  "
      ]
     },
     "execution_count": 48,
     "metadata": {},
     "output_type": "execute_result"
    }
   ],
   "source": [
    "stock_data.tail(3)#Brings up the last 3 rows"
   ]
  },
  {
   "cell_type": "markdown",
   "metadata": {},
   "source": [
    "<font color = 'blue'> **EXERCISE 2.2** </font>"
   ]
  },
  {
   "cell_type": "code",
   "execution_count": 49,
   "metadata": {},
   "outputs": [],
   "source": [
    "#Print the minimum values of all columns in stock_data\n",
    "#Print the maximum value of all columns in stock_data\n",
    "#In a new cell, display all numerical summary statistics for stock_data\n",
    "\n",
    "import pandas as pd"
   ]
  },
  {
   "cell_type": "code",
   "execution_count": 50,
   "metadata": {},
   "outputs": [],
   "source": [
    "stock_data = pd.read_csv('C:\\\\Users\\\\colby\\\\OneDrive\\\\Documents\\\\data1.csv')"
   ]
  },
  {
   "cell_type": "code",
   "execution_count": 51,
   "metadata": {
    "scrolled": false
   },
   "outputs": [
    {
     "name": "stdout",
     "output_type": "stream",
     "text": [
      "Ticker               AAPL\n",
      "Name                 3MCO\n",
      "Beta                 0.22\n",
      "Market Cap       63890227\n",
      "Current Price       12.68\n",
      "Price Target        15.56\n",
      "dtype: object\n",
      "Ticker                        XOM\n",
      "Name             WELLS FARGO & CO\n",
      "Beta                         1.84\n",
      "Market Cap             1081130615\n",
      "Current Price            324999.0\n",
      "Price Target             357125.0\n",
      "dtype: object\n"
     ]
    },
    {
     "name": "stderr",
     "output_type": "stream",
     "text": [
      "C:\\Users\\colby\\AppData\\Local\\Temp\\ipykernel_35104\\3970699085.py:1: FutureWarning: Dropping of nuisance columns in DataFrame reductions (with 'numeric_only=None') is deprecated; in a future version this will raise TypeError.  Select only valid columns before calling the reduction.\n",
      "  print(stock_data.min())\n",
      "C:\\Users\\colby\\AppData\\Local\\Temp\\ipykernel_35104\\3970699085.py:2: FutureWarning: Dropping of nuisance columns in DataFrame reductions (with 'numeric_only=None') is deprecated; in a future version this will raise TypeError.  Select only valid columns before calling the reduction.\n",
      "  print(stock_data.max())\n"
     ]
    }
   ],
   "source": [
    "print(stock_data.min())\n",
    "print(stock_data.max())"
   ]
  },
  {
   "cell_type": "code",
   "execution_count": 52,
   "metadata": {},
   "outputs": [
    {
     "data": {
      "text/html": [
       "<div>\n",
       "<style scoped>\n",
       "    .dataframe tbody tr th:only-of-type {\n",
       "        vertical-align: middle;\n",
       "    }\n",
       "\n",
       "    .dataframe tbody tr th {\n",
       "        vertical-align: top;\n",
       "    }\n",
       "\n",
       "    .dataframe thead th {\n",
       "        text-align: right;\n",
       "    }\n",
       "</style>\n",
       "<table border=\"1\" class=\"dataframe\">\n",
       "  <thead>\n",
       "    <tr style=\"text-align: right;\">\n",
       "      <th></th>\n",
       "      <th>Beta</th>\n",
       "      <th>Market Cap</th>\n",
       "      <th>Current Price</th>\n",
       "      <th>Price Target</th>\n",
       "    </tr>\n",
       "  </thead>\n",
       "  <tbody>\n",
       "    <tr>\n",
       "      <th>count</th>\n",
       "      <td>100.000000</td>\n",
       "      <td>1.000000e+02</td>\n",
       "      <td>100.000000</td>\n",
       "      <td>93.000000</td>\n",
       "    </tr>\n",
       "    <tr>\n",
       "      <th>mean</th>\n",
       "      <td>0.995800</td>\n",
       "      <td>1.756136e+08</td>\n",
       "      <td>3441.165500</td>\n",
       "      <td>4051.011720</td>\n",
       "    </tr>\n",
       "    <tr>\n",
       "      <th>std</th>\n",
       "      <td>0.283446</td>\n",
       "      <td>1.806083e+08</td>\n",
       "      <td>32481.881894</td>\n",
       "      <td>37011.566893</td>\n",
       "    </tr>\n",
       "    <tr>\n",
       "      <th>min</th>\n",
       "      <td>0.220000</td>\n",
       "      <td>6.389023e+07</td>\n",
       "      <td>12.680000</td>\n",
       "      <td>15.560000</td>\n",
       "    </tr>\n",
       "    <tr>\n",
       "      <th>25%</th>\n",
       "      <td>0.810000</td>\n",
       "      <td>8.195384e+07</td>\n",
       "      <td>69.630000</td>\n",
       "      <td>74.530000</td>\n",
       "    </tr>\n",
       "    <tr>\n",
       "      <th>50%</th>\n",
       "      <td>0.990000</td>\n",
       "      <td>1.119556e+08</td>\n",
       "      <td>117.600000</td>\n",
       "      <td>123.930000</td>\n",
       "    </tr>\n",
       "    <tr>\n",
       "      <th>75%</th>\n",
       "      <td>1.182500</td>\n",
       "      <td>1.987309e+08</td>\n",
       "      <td>219.430000</td>\n",
       "      <td>217.130000</td>\n",
       "    </tr>\n",
       "    <tr>\n",
       "      <th>max</th>\n",
       "      <td>1.840000</td>\n",
       "      <td>1.081131e+09</td>\n",
       "      <td>324999.000000</td>\n",
       "      <td>357125.000000</td>\n",
       "    </tr>\n",
       "  </tbody>\n",
       "</table>\n",
       "</div>"
      ],
      "text/plain": [
       "             Beta    Market Cap  Current Price   Price Target\n",
       "count  100.000000  1.000000e+02     100.000000      93.000000\n",
       "mean     0.995800  1.756136e+08    3441.165500    4051.011720\n",
       "std      0.283446  1.806083e+08   32481.881894   37011.566893\n",
       "min      0.220000  6.389023e+07      12.680000      15.560000\n",
       "25%      0.810000  8.195384e+07      69.630000      74.530000\n",
       "50%      0.990000  1.119556e+08     117.600000     123.930000\n",
       "75%      1.182500  1.987309e+08     219.430000     217.130000\n",
       "max      1.840000  1.081131e+09  324999.000000  357125.000000"
      ]
     },
     "execution_count": 52,
     "metadata": {},
     "output_type": "execute_result"
    }
   ],
   "source": [
    "stock_data.describe()#Produces summary stats"
   ]
  },
  {
   "cell_type": "markdown",
   "metadata": {},
   "source": [
    "### 3. New Object Type: Pandas Series"
   ]
  },
  {
   "cell_type": "markdown",
   "metadata": {},
   "source": [
    "<font color = 'blue'> **EXERCISE 3.1** </font>"
   ]
  },
  {
   "cell_type": "code",
   "execution_count": 30,
   "metadata": {},
   "outputs": [],
   "source": [
    "#Display the first row of stock_data\n",
    "#Create a new feature named Price Increase by subtracting Current Price from Price Target\n",
    "#Display the first row of stock_data\n",
    "#Create a new feature named Return by dividing Price Increase by Current Price\n",
    "#Display the first row of stock_data\n",
    "#Display summary statistics for the new Return feature\n",
    "\n",
    "import pandas as pd"
   ]
  },
  {
   "cell_type": "code",
   "execution_count": 31,
   "metadata": {},
   "outputs": [],
   "source": [
    "stock_data = pd.read_csv('C:\\\\Users\\\\colby\\\\OneDrive\\\\Documents\\\\data1.csv')"
   ]
  },
  {
   "cell_type": "code",
   "execution_count": 32,
   "metadata": {},
   "outputs": [
    {
     "data": {
      "text/html": [
       "<div>\n",
       "<style scoped>\n",
       "    .dataframe tbody tr th:only-of-type {\n",
       "        vertical-align: middle;\n",
       "    }\n",
       "\n",
       "    .dataframe tbody tr th {\n",
       "        vertical-align: top;\n",
       "    }\n",
       "\n",
       "    .dataframe thead th {\n",
       "        text-align: right;\n",
       "    }\n",
       "</style>\n",
       "<table border=\"1\" class=\"dataframe\">\n",
       "  <thead>\n",
       "    <tr style=\"text-align: right;\">\n",
       "      <th></th>\n",
       "      <th>Ticker</th>\n",
       "      <th>Name</th>\n",
       "      <th>Sector</th>\n",
       "      <th>Beta</th>\n",
       "      <th>Market Cap</th>\n",
       "      <th>Current Price</th>\n",
       "      <th>Price Target</th>\n",
       "    </tr>\n",
       "  </thead>\n",
       "  <tbody>\n",
       "    <tr>\n",
       "      <th>0</th>\n",
       "      <td>AAPL</td>\n",
       "      <td>APPLE INC</td>\n",
       "      <td>Information Technology</td>\n",
       "      <td>1.09</td>\n",
       "      <td>1081130615</td>\n",
       "      <td>223.84</td>\n",
       "      <td>232.27</td>\n",
       "    </tr>\n",
       "  </tbody>\n",
       "</table>\n",
       "</div>"
      ],
      "text/plain": [
       "  Ticker       Name                  Sector  Beta  Market Cap  Current Price  \\\n",
       "0   AAPL  APPLE INC  Information Technology  1.09  1081130615         223.84   \n",
       "\n",
       "   Price Target  \n",
       "0        232.27  "
      ]
     },
     "execution_count": 32,
     "metadata": {},
     "output_type": "execute_result"
    }
   ],
   "source": [
    "stock_data.head(1)"
   ]
  },
  {
   "cell_type": "code",
   "execution_count": 33,
   "metadata": {},
   "outputs": [
    {
     "data": {
      "text/html": [
       "<div>\n",
       "<style scoped>\n",
       "    .dataframe tbody tr th:only-of-type {\n",
       "        vertical-align: middle;\n",
       "    }\n",
       "\n",
       "    .dataframe tbody tr th {\n",
       "        vertical-align: top;\n",
       "    }\n",
       "\n",
       "    .dataframe thead th {\n",
       "        text-align: right;\n",
       "    }\n",
       "</style>\n",
       "<table border=\"1\" class=\"dataframe\">\n",
       "  <thead>\n",
       "    <tr style=\"text-align: right;\">\n",
       "      <th></th>\n",
       "      <th>Ticker</th>\n",
       "      <th>Name</th>\n",
       "      <th>Sector</th>\n",
       "      <th>Beta</th>\n",
       "      <th>Market Cap</th>\n",
       "      <th>Current Price</th>\n",
       "      <th>Price Target</th>\n",
       "      <th>Price Increase</th>\n",
       "    </tr>\n",
       "  </thead>\n",
       "  <tbody>\n",
       "    <tr>\n",
       "      <th>0</th>\n",
       "      <td>AAPL</td>\n",
       "      <td>APPLE INC</td>\n",
       "      <td>Information Technology</td>\n",
       "      <td>1.09</td>\n",
       "      <td>1081130615</td>\n",
       "      <td>223.84</td>\n",
       "      <td>232.27</td>\n",
       "      <td>8.43</td>\n",
       "    </tr>\n",
       "  </tbody>\n",
       "</table>\n",
       "</div>"
      ],
      "text/plain": [
       "  Ticker       Name                  Sector  Beta  Market Cap  Current Price  \\\n",
       "0   AAPL  APPLE INC  Information Technology  1.09  1081130615         223.84   \n",
       "\n",
       "   Price Target  Price Increase  \n",
       "0        232.27            8.43  "
      ]
     },
     "execution_count": 33,
     "metadata": {},
     "output_type": "execute_result"
    }
   ],
   "source": [
    "stock_data['Price Increase'] = stock_data['Price Target'] - stock_data['Current Price']\n",
    "stock_data.head(1) #Creating new series"
   ]
  },
  {
   "cell_type": "code",
   "execution_count": 34,
   "metadata": {},
   "outputs": [
    {
     "data": {
      "text/html": [
       "<div>\n",
       "<style scoped>\n",
       "    .dataframe tbody tr th:only-of-type {\n",
       "        vertical-align: middle;\n",
       "    }\n",
       "\n",
       "    .dataframe tbody tr th {\n",
       "        vertical-align: top;\n",
       "    }\n",
       "\n",
       "    .dataframe thead th {\n",
       "        text-align: right;\n",
       "    }\n",
       "</style>\n",
       "<table border=\"1\" class=\"dataframe\">\n",
       "  <thead>\n",
       "    <tr style=\"text-align: right;\">\n",
       "      <th></th>\n",
       "      <th>Ticker</th>\n",
       "      <th>Name</th>\n",
       "      <th>Sector</th>\n",
       "      <th>Beta</th>\n",
       "      <th>Market Cap</th>\n",
       "      <th>Current Price</th>\n",
       "      <th>Price Target</th>\n",
       "      <th>Price Increase</th>\n",
       "      <th>Return</th>\n",
       "    </tr>\n",
       "  </thead>\n",
       "  <tbody>\n",
       "    <tr>\n",
       "      <th>0</th>\n",
       "      <td>AAPL</td>\n",
       "      <td>APPLE INC</td>\n",
       "      <td>Information Technology</td>\n",
       "      <td>1.09</td>\n",
       "      <td>1081130615</td>\n",
       "      <td>223.84</td>\n",
       "      <td>232.27</td>\n",
       "      <td>8.43</td>\n",
       "      <td>0.037661</td>\n",
       "    </tr>\n",
       "  </tbody>\n",
       "</table>\n",
       "</div>"
      ],
      "text/plain": [
       "  Ticker       Name                  Sector  Beta  Market Cap  Current Price  \\\n",
       "0   AAPL  APPLE INC  Information Technology  1.09  1081130615         223.84   \n",
       "\n",
       "   Price Target  Price Increase    Return  \n",
       "0        232.27            8.43  0.037661  "
      ]
     },
     "execution_count": 34,
     "metadata": {},
     "output_type": "execute_result"
    }
   ],
   "source": [
    "stock_data['Return'] = stock_data['Price Increase'] / stock_data['Current Price']\n",
    "stock_data.head(1) #Creating new series "
   ]
  },
  {
   "cell_type": "code",
   "execution_count": 9,
   "metadata": {},
   "outputs": [
    {
     "data": {
      "text/plain": [
       "count    93.000000\n",
       "mean      0.093774\n",
       "std       0.073729\n",
       "min      -0.046877\n",
       "25%       0.034946\n",
       "50%       0.078769\n",
       "75%       0.148719\n",
       "max       0.270456\n",
       "Name: Return, dtype: float64"
      ]
     },
     "execution_count": 9,
     "metadata": {},
     "output_type": "execute_result"
    }
   ],
   "source": [
    "stock_data['Return'].describe() #Checking summary stats for Return"
   ]
  },
  {
   "cell_type": "markdown",
   "metadata": {},
   "source": [
    "### 4. Filtering Data with Boolean Masks"
   ]
  },
  {
   "cell_type": "markdown",
   "metadata": {},
   "source": [
    "<font color = 'blue'> **EXERCISE 4.1** </font>"
   ]
  },
  {
   "cell_type": "code",
   "execution_count": 41,
   "metadata": {},
   "outputs": [
    {
     "data": {
      "text/html": [
       "<div>\n",
       "<style scoped>\n",
       "    .dataframe tbody tr th:only-of-type {\n",
       "        vertical-align: middle;\n",
       "    }\n",
       "\n",
       "    .dataframe tbody tr th {\n",
       "        vertical-align: top;\n",
       "    }\n",
       "\n",
       "    .dataframe thead th {\n",
       "        text-align: right;\n",
       "    }\n",
       "</style>\n",
       "<table border=\"1\" class=\"dataframe\">\n",
       "  <thead>\n",
       "    <tr style=\"text-align: right;\">\n",
       "      <th></th>\n",
       "      <th>Ticker</th>\n",
       "      <th>Name</th>\n",
       "      <th>Sector</th>\n",
       "      <th>Beta</th>\n",
       "      <th>Market Cap</th>\n",
       "      <th>Current Price</th>\n",
       "      <th>Price Target</th>\n",
       "    </tr>\n",
       "  </thead>\n",
       "  <tbody>\n",
       "    <tr>\n",
       "      <th>0</th>\n",
       "      <td>AAPL</td>\n",
       "      <td>APPLE INC</td>\n",
       "      <td>Information Technology</td>\n",
       "      <td>1.09</td>\n",
       "      <td>1081130615</td>\n",
       "      <td>223.84</td>\n",
       "      <td>232.27</td>\n",
       "    </tr>\n",
       "    <tr>\n",
       "      <th>1</th>\n",
       "      <td>AMZN</td>\n",
       "      <td>AMAZON.COM INC</td>\n",
       "      <td>Consumer Discretionary</td>\n",
       "      <td>1.23</td>\n",
       "      <td>960942834</td>\n",
       "      <td>1970.19</td>\n",
       "      <td>2133.39</td>\n",
       "    </tr>\n",
       "    <tr>\n",
       "      <th>2</th>\n",
       "      <td>MSFT</td>\n",
       "      <td>MICROSOFT CORP</td>\n",
       "      <td>Information Technology</td>\n",
       "      <td>1.46</td>\n",
       "      <td>869345788</td>\n",
       "      <td>113.37</td>\n",
       "      <td>122.30</td>\n",
       "    </tr>\n",
       "  </tbody>\n",
       "</table>\n",
       "</div>"
      ],
      "text/plain": [
       "  Ticker            Name                  Sector  Beta  Market Cap  \\\n",
       "0   AAPL       APPLE INC  Information Technology  1.09  1081130615   \n",
       "1   AMZN  AMAZON.COM INC  Consumer Discretionary  1.23   960942834   \n",
       "2   MSFT  MICROSOFT CORP  Information Technology  1.46   869345788   \n",
       "\n",
       "   Current Price  Price Target  \n",
       "0         223.84        232.27  \n",
       "1        1970.19       2133.39  \n",
       "2         113.37        122.30  "
      ]
     },
     "execution_count": 41,
     "metadata": {},
     "output_type": "execute_result"
    }
   ],
   "source": [
    "#Display the first three rows of stock_Data\n",
    "#Using a Boolean mask, create a new series in stock_data that is an indicator variable for information technology companies\n",
    "#Display the first three rows of stock_data\n",
    "\n",
    "stock_data.head(3)"
   ]
  },
  {
   "cell_type": "code",
   "execution_count": 42,
   "metadata": {},
   "outputs": [
    {
     "data": {
      "text/html": [
       "<div>\n",
       "<style scoped>\n",
       "    .dataframe tbody tr th:only-of-type {\n",
       "        vertical-align: middle;\n",
       "    }\n",
       "\n",
       "    .dataframe tbody tr th {\n",
       "        vertical-align: top;\n",
       "    }\n",
       "\n",
       "    .dataframe thead th {\n",
       "        text-align: right;\n",
       "    }\n",
       "</style>\n",
       "<table border=\"1\" class=\"dataframe\">\n",
       "  <thead>\n",
       "    <tr style=\"text-align: right;\">\n",
       "      <th></th>\n",
       "      <th>Ticker</th>\n",
       "      <th>Name</th>\n",
       "      <th>Sector</th>\n",
       "      <th>Beta</th>\n",
       "      <th>Market Cap</th>\n",
       "      <th>Current Price</th>\n",
       "      <th>Price Target</th>\n",
       "      <th>Tech Industry</th>\n",
       "    </tr>\n",
       "  </thead>\n",
       "  <tbody>\n",
       "    <tr>\n",
       "      <th>0</th>\n",
       "      <td>AAPL</td>\n",
       "      <td>APPLE INC</td>\n",
       "      <td>Information Technology</td>\n",
       "      <td>1.09</td>\n",
       "      <td>1081130615</td>\n",
       "      <td>223.84</td>\n",
       "      <td>232.27</td>\n",
       "      <td>1</td>\n",
       "    </tr>\n",
       "    <tr>\n",
       "      <th>1</th>\n",
       "      <td>AMZN</td>\n",
       "      <td>AMAZON.COM INC</td>\n",
       "      <td>Consumer Discretionary</td>\n",
       "      <td>1.23</td>\n",
       "      <td>960942834</td>\n",
       "      <td>1970.19</td>\n",
       "      <td>2133.39</td>\n",
       "      <td>0</td>\n",
       "    </tr>\n",
       "    <tr>\n",
       "      <th>2</th>\n",
       "      <td>MSFT</td>\n",
       "      <td>MICROSOFT CORP</td>\n",
       "      <td>Information Technology</td>\n",
       "      <td>1.46</td>\n",
       "      <td>869345788</td>\n",
       "      <td>113.37</td>\n",
       "      <td>122.30</td>\n",
       "      <td>1</td>\n",
       "    </tr>\n",
       "  </tbody>\n",
       "</table>\n",
       "</div>"
      ],
      "text/plain": [
       "  Ticker            Name                  Sector  Beta  Market Cap  \\\n",
       "0   AAPL       APPLE INC  Information Technology  1.09  1081130615   \n",
       "1   AMZN  AMAZON.COM INC  Consumer Discretionary  1.23   960942834   \n",
       "2   MSFT  MICROSOFT CORP  Information Technology  1.46   869345788   \n",
       "\n",
       "   Current Price  Price Target  Tech Industry  \n",
       "0         223.84        232.27              1  \n",
       "1        1970.19       2133.39              0  \n",
       "2         113.37        122.30              1  "
      ]
     },
     "execution_count": 42,
     "metadata": {},
     "output_type": "execute_result"
    }
   ],
   "source": [
    "stock_data['Tech Industry'] = (stock_data['Sector']=='Information Technology').astype(int)\n",
    "stock_data.head(3)"
   ]
  },
  {
   "cell_type": "markdown",
   "metadata": {},
   "source": [
    "### 5. Segmenting Data with Groupby"
   ]
  },
  {
   "cell_type": "markdown",
   "metadata": {},
   "source": [
    "<font color = 'blue'> **EXERCISE 5.1** </font>"
   ]
  },
  {
   "cell_type": "code",
   "execution_count": 53,
   "metadata": {},
   "outputs": [
    {
     "data": {
      "text/html": [
       "<div>\n",
       "<style scoped>\n",
       "    .dataframe tbody tr th:only-of-type {\n",
       "        vertical-align: middle;\n",
       "    }\n",
       "\n",
       "    .dataframe tbody tr th {\n",
       "        vertical-align: top;\n",
       "    }\n",
       "\n",
       "    .dataframe thead th {\n",
       "        text-align: right;\n",
       "    }\n",
       "</style>\n",
       "<table border=\"1\" class=\"dataframe\">\n",
       "  <thead>\n",
       "    <tr style=\"text-align: right;\">\n",
       "      <th></th>\n",
       "      <th>Beta</th>\n",
       "      <th>Market Cap</th>\n",
       "      <th>Current Price</th>\n",
       "      <th>Price Target</th>\n",
       "    </tr>\n",
       "    <tr>\n",
       "      <th>Sector</th>\n",
       "      <th></th>\n",
       "      <th></th>\n",
       "      <th></th>\n",
       "      <th></th>\n",
       "    </tr>\n",
       "  </thead>\n",
       "  <tbody>\n",
       "    <tr>\n",
       "      <th>Consumer Discretionary</th>\n",
       "      <td>0.907692</td>\n",
       "      <td>1.875567e+08</td>\n",
       "      <td>422.383846</td>\n",
       "      <td>468.329231</td>\n",
       "    </tr>\n",
       "    <tr>\n",
       "      <th>Consumer Staples</th>\n",
       "      <td>0.675000</td>\n",
       "      <td>1.392211e+08</td>\n",
       "      <td>88.859000</td>\n",
       "      <td>94.648000</td>\n",
       "    </tr>\n",
       "    <tr>\n",
       "      <th>Energy</th>\n",
       "      <td>0.910000</td>\n",
       "      <td>1.865371e+08</td>\n",
       "      <td>83.757500</td>\n",
       "      <td>97.650000</td>\n",
       "    </tr>\n",
       "    <tr>\n",
       "      <th>Enersy</th>\n",
       "      <td>0.860000</td>\n",
       "      <td>6.824144e+07</td>\n",
       "      <td>117.820000</td>\n",
       "      <td>140.690000</td>\n",
       "    </tr>\n",
       "    <tr>\n",
       "      <th>Financials</th>\n",
       "      <td>1.155000</td>\n",
       "      <td>1.856177e+08</td>\n",
       "      <td>27198.074167</td>\n",
       "      <td>29894.575833</td>\n",
       "    </tr>\n",
       "    <tr>\n",
       "      <th>Health Care</th>\n",
       "      <td>0.954211</td>\n",
       "      <td>1.275709e+08</td>\n",
       "      <td>177.760000</td>\n",
       "      <td>186.905789</td>\n",
       "    </tr>\n",
       "    <tr>\n",
       "      <th>Industrial$</th>\n",
       "      <td>1.190000</td>\n",
       "      <td>1.219452e+08</td>\n",
       "      <td>207.880000</td>\n",
       "      <td>217.130000</td>\n",
       "    </tr>\n",
       "    <tr>\n",
       "      <th>Industrials</th>\n",
       "      <td>1.032500</td>\n",
       "      <td>1.189380e+08</td>\n",
       "      <td>179.236250</td>\n",
       "      <td>198.453750</td>\n",
       "    </tr>\n",
       "    <tr>\n",
       "      <th>Information Technology</th>\n",
       "      <td>1.224444</td>\n",
       "      <td>2.958042e+08</td>\n",
       "      <td>199.093889</td>\n",
       "      <td>222.621667</td>\n",
       "    </tr>\n",
       "    <tr>\n",
       "      <th>Information Technology .</th>\n",
       "      <td>1.840000</td>\n",
       "      <td>1.680694e+08</td>\n",
       "      <td>276.430000</td>\n",
       "      <td>286.090000</td>\n",
       "    </tr>\n",
       "    <tr>\n",
       "      <th>Materials</th>\n",
       "      <td>1.360000</td>\n",
       "      <td>1.582399e+08</td>\n",
       "      <td>68.580000</td>\n",
       "      <td>81.260000</td>\n",
       "    </tr>\n",
       "    <tr>\n",
       "      <th>Real Estate</th>\n",
       "      <td>0.460000</td>\n",
       "      <td>6.488651e+07</td>\n",
       "      <td>147.190000</td>\n",
       "      <td>160.680000</td>\n",
       "    </tr>\n",
       "    <tr>\n",
       "      <th>Telecommunication Services</th>\n",
       "      <td>0.665000</td>\n",
       "      <td>2.347001e+08</td>\n",
       "      <td>44.075000</td>\n",
       "      <td>46.020000</td>\n",
       "    </tr>\n",
       "    <tr>\n",
       "      <th>Utilities</th>\n",
       "      <td>0.220000</td>\n",
       "      <td>8.189415e+07</td>\n",
       "      <td>173.650000</td>\n",
       "      <td>176.720000</td>\n",
       "    </tr>\n",
       "    <tr>\n",
       "      <th>lndustrials</th>\n",
       "      <td>1.120000</td>\n",
       "      <td>6.754730e+07</td>\n",
       "      <td>255.440000</td>\n",
       "      <td>283.180000</td>\n",
       "    </tr>\n",
       "  </tbody>\n",
       "</table>\n",
       "</div>"
      ],
      "text/plain": [
       "                                Beta    Market Cap  Current Price  \\\n",
       "Sector                                                              \n",
       "Consumer Discretionary      0.907692  1.875567e+08     422.383846   \n",
       "Consumer Staples            0.675000  1.392211e+08      88.859000   \n",
       "Energy                      0.910000  1.865371e+08      83.757500   \n",
       "Enersy                      0.860000  6.824144e+07     117.820000   \n",
       "Financials                  1.155000  1.856177e+08   27198.074167   \n",
       "Health Care                 0.954211  1.275709e+08     177.760000   \n",
       "Industrial$                 1.190000  1.219452e+08     207.880000   \n",
       "Industrials                 1.032500  1.189380e+08     179.236250   \n",
       "Information Technology      1.224444  2.958042e+08     199.093889   \n",
       "Information Technology .    1.840000  1.680694e+08     276.430000   \n",
       "Materials                   1.360000  1.582399e+08      68.580000   \n",
       "Real Estate                 0.460000  6.488651e+07     147.190000   \n",
       "Telecommunication Services  0.665000  2.347001e+08      44.075000   \n",
       "Utilities                   0.220000  8.189415e+07     173.650000   \n",
       "lndustrials                 1.120000  6.754730e+07     255.440000   \n",
       "\n",
       "                            Price Target  \n",
       "Sector                                    \n",
       "Consumer Discretionary        468.329231  \n",
       "Consumer Staples               94.648000  \n",
       "Energy                         97.650000  \n",
       "Enersy                        140.690000  \n",
       "Financials                  29894.575833  \n",
       "Health Care                   186.905789  \n",
       "Industrial$                   217.130000  \n",
       "Industrials                   198.453750  \n",
       "Information Technology        222.621667  \n",
       "Information Technology .      286.090000  \n",
       "Materials                      81.260000  \n",
       "Real Estate                   160.680000  \n",
       "Telecommunication Services     46.020000  \n",
       "Utilities                     176.720000  \n",
       "lndustrials                   283.180000  "
      ]
     },
     "execution_count": 53,
     "metadata": {},
     "output_type": "execute_result"
    }
   ],
   "source": [
    "stock_data.groupby('Sector').mean()"
   ]
  },
  {
   "cell_type": "code",
   "execution_count": null,
   "metadata": {},
   "outputs": [],
   "source": []
  }
 ],
 "metadata": {
  "kernelspec": {
   "display_name": "Python 3 (ipykernel)",
   "language": "python",
   "name": "python3"
  },
  "language_info": {
   "codemirror_mode": {
    "name": "ipython",
    "version": 3
   },
   "file_extension": ".py",
   "mimetype": "text/x-python",
   "name": "python",
   "nbconvert_exporter": "python",
   "pygments_lexer": "ipython3",
   "version": "3.9.12"
  }
 },
 "nbformat": 4,
 "nbformat_minor": 2
}
