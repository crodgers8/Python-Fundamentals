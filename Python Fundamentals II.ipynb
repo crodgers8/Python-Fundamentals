{
 "cells": [
  {
   "cell_type": "markdown",
   "metadata": {},
   "source": [
    "# Python Fundamentals II\n",
    "Welcome to the second lesson! This Jupyter Notebook file is meant to accompany **L02 - Python Fundamentals II.**"
   ]
  },
  {
   "cell_type": "markdown",
   "metadata": {},
   "source": [
    "Type your solutions for each exercise in the code cells below, and then press **Shift + Enter** to execute your code. Then, check the solution video to see how you did!"
   ]
  },
  {
   "cell_type": "markdown",
   "metadata": {},
   "source": [
    "### 1. Python Objects"
   ]
  },
  {
   "cell_type": "code",
   "execution_count": null,
   "metadata": {},
   "outputs": [],
   "source": [
    "# Lesson Workspace\n",
    "# Types of objects \n",
    "# Integers: 1, 2, 3, 4\n",
    "# Floats: 1.0 , 2.5, 3.14\n",
    "# Strings: 'Hello', 'How are you doing', '2.0'\n",
    "# BooLeans: 10 > 5, 100 < 1, (7 == 7) - Must use double equal sign to compare, Single to define --> True or False\n",
    "# Print(type(1)) --> Checks the type of object "
   ]
  },
  {
   "cell_type": "markdown",
   "metadata": {},
   "source": [
    "<font color = 'blue'> **EXERCISE 1.1** </font>"
   ]
  },
  {
   "cell_type": "code",
   "execution_count": 1,
   "metadata": {},
   "outputs": [
    {
     "name": "stdout",
     "output_type": "stream",
     "text": [
      "The object type of 10 is integer\n",
      "The object type of 10.5 is Float\n",
      "The object type of this is String\n",
      "The object type of True is BooLean\n",
      "The object type of True is BooLean\n"
     ]
    }
   ],
   "source": [
    "print('The object type of {} is {}'.format(10, 'integer'))\n",
    "print('The object type of {} is {}'.format(10.5, 'Float'))\n",
    "print('The object type of {} is {}'.format('this', 'String'))\n",
    "print('The object type of {} is {}'.format(True, 'BooLean'))\n",
    "print('The object type of {} is {}'.format(1 < 5, 'BooLean'))"
   ]
  },
  {
   "cell_type": "markdown",
   "metadata": {},
   "source": [
    "### 2. Lists"
   ]
  },
  {
   "cell_type": "code",
   "execution_count": null,
   "metadata": {},
   "outputs": [],
   "source": [
    "# Lesson Workspace\n",
    "# Use square brackets for a list\n",
    "#List start at index 0 --> So index 1 is really index 0 \n",
    "#list_1 = [1, 2, 3, 4, 5]\n",
    "#list_2 = ['a', 'b', 'c', 'd' 'e']\n"
   ]
  },
  {
   "cell_type": "code",
   "execution_count": 33,
   "metadata": {},
   "outputs": [],
   "source": [
    "list_1 = [1, 2, 3, 4, 5]\n",
    "list_2 = ['a', 'b', 'c', 'd', 'e']"
   ]
  },
  {
   "cell_type": "code",
   "execution_count": 34,
   "metadata": {},
   "outputs": [
    {
     "name": "stdout",
     "output_type": "stream",
     "text": [
      "[1, 2, 3, 4, 5]\n",
      "['a', 'b', 'c', 'd', 'e']\n"
     ]
    }
   ],
   "source": [
    "print(list_1)\n",
    "print(list_2)"
   ]
  },
  {
   "cell_type": "code",
   "execution_count": 5,
   "metadata": {},
   "outputs": [
    {
     "name": "stdout",
     "output_type": "stream",
     "text": [
      "[1, 2.5, 3.14, True, 'text']\n"
     ]
    }
   ],
   "source": [
    "#List can have diffrent objets\n",
    "pi = 3.14\n",
    "list_3 = [1, 2.5, pi, pi > 0, 'text']\n",
    "print(list_3)"
   ]
  },
  {
   "cell_type": "code",
   "execution_count": 6,
   "metadata": {},
   "outputs": [
    {
     "data": {
      "text/plain": [
       "4"
      ]
     },
     "execution_count": 6,
     "metadata": {},
     "output_type": "execute_result"
    }
   ],
   "source": [
    "list_1 = [1, 2, 3, 4, 5]\n",
    "#                  ^list_1[3] - List 1 index 3\n",
    "#                     ^list_1[4] - List 1 index 4 \n",
    "\n",
    "list_1[3]\n"
   ]
  },
  {
   "cell_type": "code",
   "execution_count": 7,
   "metadata": {},
   "outputs": [
    {
     "data": {
      "text/plain": [
       "5"
      ]
     },
     "execution_count": 7,
     "metadata": {},
     "output_type": "execute_result"
    }
   ],
   "source": [
    "list_1[4]"
   ]
  },
  {
   "cell_type": "code",
   "execution_count": 8,
   "metadata": {},
   "outputs": [
    {
     "data": {
      "text/plain": [
       "9"
      ]
     },
     "execution_count": 8,
     "metadata": {},
     "output_type": "execute_result"
    }
   ],
   "source": [
    "list_1[3] + list_1[4]"
   ]
  },
  {
   "cell_type": "code",
   "execution_count": 9,
   "metadata": {},
   "outputs": [
    {
     "data": {
      "text/plain": [
       "[1, 2, 3]"
      ]
     },
     "execution_count": 9,
     "metadata": {},
     "output_type": "execute_result"
    }
   ],
   "source": [
    "# : -> Means you are selecting a range \n",
    "list_1[0:3]"
   ]
  },
  {
   "cell_type": "code",
   "execution_count": 10,
   "metadata": {},
   "outputs": [
    {
     "data": {
      "text/plain": [
       "[1, 2, 3]"
      ]
     },
     "execution_count": 10,
     "metadata": {},
     "output_type": "execute_result"
    }
   ],
   "source": [
    "list_1[:3]"
   ]
  },
  {
   "cell_type": "code",
   "execution_count": 11,
   "metadata": {},
   "outputs": [
    {
     "data": {
      "text/plain": [
       "[3, 4, 5]"
      ]
     },
     "execution_count": 11,
     "metadata": {},
     "output_type": "execute_result"
    }
   ],
   "source": [
    "list_1[2:5]"
   ]
  },
  {
   "cell_type": "code",
   "execution_count": 12,
   "metadata": {},
   "outputs": [
    {
     "data": {
      "text/plain": [
       "[3, 4, 5]"
      ]
     },
     "execution_count": 12,
     "metadata": {},
     "output_type": "execute_result"
    }
   ],
   "source": [
    "list_1[2:]"
   ]
  },
  {
   "cell_type": "markdown",
   "metadata": {},
   "source": [
    "<font color = 'blue'> **EXERCISE 2.1** </font>"
   ]
  },
  {
   "cell_type": "code",
   "execution_count": 13,
   "metadata": {},
   "outputs": [],
   "source": [
    "#Create a list called list_1 containing the integers 1, 2, 3, 4, and 5\n",
    "#Create a list called list_2 containing the integers 6, 7, 8, 9, and 10\n",
    "#Print the sum of the 4th object in list_1 and the 1st object in list_2\n",
    "#Print the last two objects (as a range) in list_1 and the first three objects (as a range) in list_2\n",
    "#Create a list called list_3 containing the objects from Step 4 in numerical order and print the result\n",
    "\n",
    "list_1 = [1, 2, 3, 4, 5]\n",
    "list_2 = [6, 7, 8, 9, 10]"
   ]
  },
  {
   "cell_type": "code",
   "execution_count": 17,
   "metadata": {},
   "outputs": [
    {
     "name": "stdout",
     "output_type": "stream",
     "text": [
      "10\n"
     ]
    }
   ],
   "source": [
    "print(list_1[3] + list_2[0])"
   ]
  },
  {
   "cell_type": "code",
   "execution_count": 18,
   "metadata": {},
   "outputs": [
    {
     "name": "stdout",
     "output_type": "stream",
     "text": [
      "[4, 5]\n",
      "[6, 7, 8]\n"
     ]
    }
   ],
   "source": [
    "print(list_1[3:])\n",
    "print(list_2[:3])"
   ]
  },
  {
   "cell_type": "code",
   "execution_count": 19,
   "metadata": {},
   "outputs": [
    {
     "name": "stdout",
     "output_type": "stream",
     "text": [
      "[4, 5, 6, 7, 8]\n"
     ]
    }
   ],
   "source": [
    "list_3 = list_1[3:] + list_2[:3]\n",
    "print(list_3)\n"
   ]
  },
  {
   "cell_type": "code",
   "execution_count": 20,
   "metadata": {},
   "outputs": [
    {
     "name": "stdout",
     "output_type": "stream",
     "text": [
      "['AAPL', 'AMZN', 'MSFT', 'tbd', 'GOOGL']\n"
     ]
    }
   ],
   "source": [
    "tech_portfolio = ['AAPL', 'AMZN', 'MSFT', 'tbd', 'GOOGL']\n",
    "print(tech_portfolio)"
   ]
  },
  {
   "cell_type": "code",
   "execution_count": 21,
   "metadata": {},
   "outputs": [
    {
     "name": "stdout",
     "output_type": "stream",
     "text": [
      "['AAPL', 'AMZN', 'MSFT', 'CSCO', 'GOOGL']\n"
     ]
    }
   ],
   "source": [
    "tech_portfolio[3] = 'CSCO'\n",
    "print(tech_portfolio)"
   ]
  },
  {
   "cell_type": "code",
   "execution_count": 22,
   "metadata": {},
   "outputs": [
    {
     "name": "stdout",
     "output_type": "stream",
     "text": [
      "['AAPL', 'AMZN', 'MSFT', 'CSCO', 'GOOGL', 'NVDA']\n"
     ]
    }
   ],
   "source": [
    "# Append function adds the new object onto the list \n",
    "tech_portfolio.append('NVDA')\n",
    "print(tech_portfolio)"
   ]
  },
  {
   "cell_type": "code",
   "execution_count": 30,
   "metadata": {},
   "outputs": [],
   "source": [
    "#tech_portfolio.remove('AMZN')\n",
    "# print(tech_portfolio)"
   ]
  },
  {
   "cell_type": "code",
   "execution_count": 31,
   "metadata": {},
   "outputs": [
    {
     "name": "stdout",
     "output_type": "stream",
     "text": [
      "True\n"
     ]
    }
   ],
   "source": [
    "#Checking list membership  \n",
    "print('GOOGL' in tech_portfolio)"
   ]
  },
  {
   "cell_type": "code",
   "execution_count": 32,
   "metadata": {},
   "outputs": [
    {
     "name": "stdout",
     "output_type": "stream",
     "text": [
      "5\n"
     ]
    }
   ],
   "source": [
    "#Checking the length of a list \n",
    "print(len(tech_portfolio))"
   ]
  },
  {
   "cell_type": "code",
   "execution_count": 27,
   "metadata": {
    "scrolled": true
   },
   "outputs": [
    {
     "name": "stdout",
     "output_type": "stream",
     "text": [
      "1.84\n",
      "1.26\n"
     ]
    }
   ],
   "source": [
    "#Checking the Max and Min of a list \n",
    "portfolio_beta = [1.26, 1.46, 1.3, 1.44, 1.84]\n",
    "print(max(portfolio_beta))\n",
    "print(min(portfolio_beta))"
   ]
  },
  {
   "cell_type": "markdown",
   "metadata": {},
   "source": [
    "<font color = 'blue'> **EXERCISE 2.2** </font>"
   ]
  },
  {
   "cell_type": "code",
   "execution_count": 28,
   "metadata": {},
   "outputs": [
    {
     "name": "stdout",
     "output_type": "stream",
     "text": [
      "['JPM', 'BAC', 'WFC', 'Citi', 'AXP']\n"
     ]
    }
   ],
   "source": [
    "#Create and print a list called financials containing the following strings: JPM, BAC, WFC, Citi, AXP\n",
    "#Change “Citi” to “C” and print the new list\n",
    "#Remove “AXP”, append “PNC”, and print the new list\n",
    "#Check membership for “LBK” and print result\n",
    "#Print the length of financials\n",
    "\n",
    "financials = ['JPM', 'BAC', 'WFC', 'Citi', 'AXP']\n",
    "print(financials)"
   ]
  },
  {
   "cell_type": "code",
   "execution_count": 35,
   "metadata": {},
   "outputs": [
    {
     "name": "stdout",
     "output_type": "stream",
     "text": [
      "['JPM', 'BAC', 'WFC', 'C', 'AXP']\n"
     ]
    }
   ],
   "source": [
    "financials[3] = 'C'\n",
    "print(financials)"
   ]
  },
  {
   "cell_type": "code",
   "execution_count": 36,
   "metadata": {
    "scrolled": true
   },
   "outputs": [
    {
     "name": "stdout",
     "output_type": "stream",
     "text": [
      "['JPM', 'BAC', 'WFC', 'C', 'PNC']\n"
     ]
    }
   ],
   "source": [
    "financials.remove('AXP')\n",
    "financials.append('PNC')\n",
    "print(financials)"
   ]
  },
  {
   "cell_type": "code",
   "execution_count": 37,
   "metadata": {},
   "outputs": [
    {
     "name": "stdout",
     "output_type": "stream",
     "text": [
      "False\n"
     ]
    }
   ],
   "source": [
    "print('BLK' in financials)"
   ]
  },
  {
   "cell_type": "code",
   "execution_count": 38,
   "metadata": {},
   "outputs": [
    {
     "data": {
      "text/plain": [
       "5"
      ]
     },
     "execution_count": 38,
     "metadata": {},
     "output_type": "execute_result"
    }
   ],
   "source": [
    "len(financials)"
   ]
  },
  {
   "cell_type": "code",
   "execution_count": 39,
   "metadata": {},
   "outputs": [
    {
     "name": "stdout",
     "output_type": "stream",
     "text": [
      "(1, 2, 3, 4, 5)\n",
      "[1, 2, 3, 4, 5]\n"
     ]
    }
   ],
   "source": [
    "#Tuples use () instead of []\n",
    "#Cannot change the object in code\n",
    "# Tuples are used to store multiple items in a single variable - store collections of data\n",
    "tuple_1 = (1, 2, 3, 4, 5)\n",
    "list_1 = [1, 2, 3, 4, 5]\n",
    "\n",
    "print(tuple_1)\n",
    "print(list_1)\n"
   ]
  },
  {
   "cell_type": "code",
   "execution_count": 40,
   "metadata": {},
   "outputs": [
    {
     "name": "stdout",
     "output_type": "stream",
     "text": [
      "[10, 2, 3, 4, 5]\n"
     ]
    }
   ],
   "source": [
    "list_1[0] = 10\n",
    "print(list_1)\n"
   ]
  },
  {
   "cell_type": "code",
   "execution_count": 41,
   "metadata": {},
   "outputs": [
    {
     "data": {
      "text/plain": [
       "1"
      ]
     },
     "execution_count": 41,
     "metadata": {},
     "output_type": "execute_result"
    }
   ],
   "source": [
    "tuple_1[0]"
   ]
  },
  {
   "cell_type": "code",
   "execution_count": 42,
   "metadata": {
    "scrolled": true
   },
   "outputs": [
    {
     "ename": "TypeError",
     "evalue": "'tuple' object does not support item assignment",
     "output_type": "error",
     "traceback": [
      "\u001b[0;31m---------------------------------------------------------------------------\u001b[0m",
      "\u001b[0;31mTypeError\u001b[0m                                 Traceback (most recent call last)",
      "\u001b[0;32m<ipython-input-42-b72e5a26927e>\u001b[0m in \u001b[0;36m<module>\u001b[0;34m\u001b[0m\n\u001b[0;32m----> 1\u001b[0;31m \u001b[0mtuple_1\u001b[0m\u001b[0;34m[\u001b[0m\u001b[0;36m0\u001b[0m\u001b[0;34m]\u001b[0m \u001b[0;34m=\u001b[0m \u001b[0;36m10\u001b[0m\u001b[0;34m\u001b[0m\u001b[0;34m\u001b[0m\u001b[0m\n\u001b[0m",
      "\u001b[0;31mTypeError\u001b[0m: 'tuple' object does not support item assignment"
     ]
    }
   ],
   "source": [
    "tuple_1[0] = 10"
   ]
  },
  {
   "cell_type": "markdown",
   "metadata": {},
   "source": [
    "### 3. Sets"
   ]
  },
  {
   "cell_type": "code",
   "execution_count": 43,
   "metadata": {},
   "outputs": [],
   "source": [
    "#similar to a list\n",
    "# All unique and not in a specific order\n",
    "# Use {} for set\n",
    "list_1 = ['a', 'a', 'b', 'b', 'c', 'c', 'd', 'd', 'e', 'e']\n",
    "set_1 = {'a', 'a', 'b', 'b', 'c', 'c', 'd', 'd', 'e', 'e'} "
   ]
  },
  {
   "cell_type": "code",
   "execution_count": 44,
   "metadata": {},
   "outputs": [
    {
     "name": "stdout",
     "output_type": "stream",
     "text": [
      "['a', 'a', 'b', 'b', 'c', 'c', 'd', 'd', 'e', 'e']\n"
     ]
    }
   ],
   "source": [
    "print(list_1)"
   ]
  },
  {
   "cell_type": "code",
   "execution_count": 45,
   "metadata": {},
   "outputs": [
    {
     "name": "stdout",
     "output_type": "stream",
     "text": [
      "{'c', 'b', 'd', 'a', 'e'}\n"
     ]
    }
   ],
   "source": [
    "print(set_1)"
   ]
  },
  {
   "cell_type": "code",
   "execution_count": 53,
   "metadata": {},
   "outputs": [],
   "source": [
    "list_1 = ['IT', 'Consumer', 'IT', 'IT', 'Financials']\n",
    "set_1 = {'IT', 'Consumer', 'IT', 'IT', 'Financials'}"
   ]
  },
  {
   "cell_type": "code",
   "execution_count": 54,
   "metadata": {},
   "outputs": [
    {
     "name": "stdout",
     "output_type": "stream",
     "text": [
      "['IT', 'Consumer', 'IT', 'IT', 'Financials']\n"
     ]
    }
   ],
   "source": [
    "print(list_1)"
   ]
  },
  {
   "cell_type": "code",
   "execution_count": 55,
   "metadata": {},
   "outputs": [
    {
     "name": "stdout",
     "output_type": "stream",
     "text": [
      "{'IT', 'Consumer', 'Financials'}\n"
     ]
    }
   ],
   "source": [
    "#Sets are used to remove duplicats\n",
    "print(set_1)"
   ]
  },
  {
   "cell_type": "code",
   "execution_count": null,
   "metadata": {},
   "outputs": [],
   "source": [
    "# Three set operations\n",
    "# Use the format \"set_1.function(set_2)\"\n",
    "# .union() - Combines sets - order doesnt matter \n",
    "# .intersection() - See's what sets have in common - order doesnt matter\n",
    "# .diffrence() - Prints out unique values that arent included in the other set - order does matter \n"
   ]
  },
  {
   "cell_type": "code",
   "execution_count": 11,
   "metadata": {},
   "outputs": [],
   "source": [
    "mkt_cap_over_500 = {'AAPL', 'AMZN', 'MSFT', 'GOOGL', 'BRK/A'}\n",
    "Aaa_rated = {'MSFT', 'JNJ', 'XOM'}\n"
   ]
  },
  {
   "cell_type": "code",
   "execution_count": 12,
   "metadata": {},
   "outputs": [
    {
     "name": "stdout",
     "output_type": "stream",
     "text": [
      "{'MSFT', 'JNJ', 'GOOGL', 'AMZN', 'AAPL', 'BRK/A', 'XOM'}\n"
     ]
    }
   ],
   "source": [
    "# Combine sets with .union() - Order doesnt matter\n",
    "print(mkt_cap_over_500.union(Aaa_rated))\n"
   ]
  },
  {
   "cell_type": "code",
   "execution_count": 13,
   "metadata": {},
   "outputs": [
    {
     "name": "stdout",
     "output_type": "stream",
     "text": [
      "{'MSFT', 'JNJ', 'AMZN', 'GOOGL', 'XOM', 'AAPL', 'BRK/A'}\n"
     ]
    }
   ],
   "source": [
    "print(Aaa_rated.union(mkt_cap_over_500))"
   ]
  },
  {
   "cell_type": "code",
   "execution_count": 14,
   "metadata": {},
   "outputs": [
    {
     "name": "stdout",
     "output_type": "stream",
     "text": [
      "{'MSFT'}\n"
     ]
    }
   ],
   "source": [
    "# Find common elemnets with .intersection() - Order doesnt matter\n",
    "# The only thing in common with both set is MSFT\n",
    "\n",
    "print(mkt_cap_over_500.intersection(Aaa_rated))"
   ]
  },
  {
   "cell_type": "code",
   "execution_count": 16,
   "metadata": {},
   "outputs": [
    {
     "name": "stdout",
     "output_type": "stream",
     "text": [
      "{'GOOGL', 'AMZN', 'AAPL', 'BRK/A'}\n"
     ]
    }
   ],
   "source": [
    "# Find diffrent elements with .difference() - Order matters\n",
    "\n",
    "print(mkt_cap_over_500.difference(Aaa_rated))\n"
   ]
  },
  {
   "cell_type": "code",
   "execution_count": 17,
   "metadata": {},
   "outputs": [
    {
     "name": "stdout",
     "output_type": "stream",
     "text": [
      "{'XOM', 'JNJ'}\n"
     ]
    }
   ],
   "source": [
    "print(Aaa_rated.difference(mkt_cap_over_500))"
   ]
  },
  {
   "cell_type": "markdown",
   "metadata": {},
   "source": [
    "<font color = 'blue'> **EXERCISE 3.1** </font>"
   ]
  },
  {
   "cell_type": "code",
   "execution_count": 19,
   "metadata": {},
   "outputs": [
    {
     "data": {
      "text/plain": [
       "{'ABBV', 'ABT', 'AMGN', 'JNJ', 'NFLX', 'NVDA', 'PFE', 'UNH'}"
      ]
     },
     "execution_count": 19,
     "metadata": {},
     "output_type": "execute_result"
    }
   ],
   "source": [
    "# What are all of the companies included in both sets?\n",
    "# Which healthcare companies have a beta>1?\n",
    "# Which healthcare companies have a beta<1?\n",
    "\n",
    "# Healthcare Companies: 'JNJ', 'UNH', 'PFE', 'ABBV', 'AMGN', 'ABT'\n",
    "# Companies with Beta > 1: 'ABBV', 'AMGN', 'ABT', 'NFLX', 'NVDA'\n",
    "\n",
    "healthcare = {'JNJ', 'UNH', 'PFE', 'ABBV', 'AMGN', 'ABT'}\n",
    "beta = {'ABBV', 'AMGN', 'ABT', 'NFLX', 'NVDA'}\n",
    "healthcare.union(beta)"
   ]
  },
  {
   "cell_type": "code",
   "execution_count": 20,
   "metadata": {},
   "outputs": [
    {
     "data": {
      "text/plain": [
       "{'ABBV', 'ABT', 'AMGN'}"
      ]
     },
     "execution_count": 20,
     "metadata": {},
     "output_type": "execute_result"
    }
   ],
   "source": [
    "healthcare.intersection(beta)"
   ]
  },
  {
   "cell_type": "code",
   "execution_count": 21,
   "metadata": {},
   "outputs": [
    {
     "data": {
      "text/plain": [
       "{'JNJ', 'PFE', 'UNH'}"
      ]
     },
     "execution_count": 21,
     "metadata": {},
     "output_type": "execute_result"
    }
   ],
   "source": [
    "healthcare.difference(beta)"
   ]
  },
  {
   "cell_type": "code",
   "execution_count": 22,
   "metadata": {},
   "outputs": [
    {
     "data": {
      "text/plain": [
       "{'NFLX', 'NVDA'}"
      ]
     },
     "execution_count": 22,
     "metadata": {},
     "output_type": "execute_result"
    }
   ],
   "source": [
    "beta.difference(healthcare)"
   ]
  },
  {
   "cell_type": "markdown",
   "metadata": {},
   "source": [
    "### 4. Dictionaries"
   ]
  },
  {
   "cell_type": "code",
   "execution_count": 24,
   "metadata": {},
   "outputs": [],
   "source": [
    "# Lesson Workspace\n",
    "# Use dictionaries to organize objects\n",
    "# word is the key and the defitnion is the value \n",
    "\n",
    "healthcare_data = {\n",
    "    'JNJ' : ['Johnson & Johnson', 0.86],\n",
    "    'UNH' : ['UnitedHealth', 0.97],\n",
    "    'PFE' : ['Pfizer Inc.', 0.81],\n",
    "    'ABBV' : ['AbbVie Inc.', 1.39],\n",
    "    'AMGN' : ['Amgen Inc.', 1.05],\n",
    "    'ABT' : ['Abbott Labs', 1.07],}\n"
   ]
  },
  {
   "cell_type": "code",
   "execution_count": 25,
   "metadata": {},
   "outputs": [
    {
     "data": {
      "text/plain": [
       "['UnitedHealth', 0.97]"
      ]
     },
     "execution_count": 25,
     "metadata": {},
     "output_type": "execute_result"
    }
   ],
   "source": [
    "healthcare_data['UNH']"
   ]
  },
  {
   "cell_type": "markdown",
   "metadata": {},
   "source": [
    "<font color = 'blue'> **EXERCISE 4.1** </font>"
   ]
  },
  {
   "cell_type": "code",
   "execution_count": 26,
   "metadata": {},
   "outputs": [
    {
     "name": "stdout",
     "output_type": "stream",
     "text": [
      "[42.96, 43.06]\n",
      "205.9\n"
     ]
    }
   ],
   "source": [
    "# 1.) Define 6 lists using the data table\n",
    "# 1.) Use company tickers for variable names (NOT A STRING)\n",
    "# 1.) The first object in each list should be the company’s current price, and the second object in each list should be the price target\n",
    "\n",
    "# 2.) Create a dictionary called price_dict with 6 items\n",
    "# 2.) The key for each item should be a string of the company ticker\n",
    "# 2.) The value for each item should be the list defined in Step 1\n",
    "\n",
    "# 3.) Print the entire value for PFE\n",
    "\n",
    "# 4.) Print only the price target for AMGN\n",
    "\n",
    "# Define lists\n",
    "jnj = [139.49, 144.20]\n",
    "unh = [265.31, 284.14]\n",
    "pfe = [42.96, 43.06]\n",
    "abbv = [95.68, 107.44]\n",
    "amgn = [200.58, 205.90]\n",
    "abt = [68.42, 71.06]\n",
    "\n",
    "price_dict = {\n",
    "    'JNJ' : jnj,\n",
    "    'UNH' : unh,\n",
    "    'PFE' : pfe,\n",
    "    'ABBV' : abbv,\n",
    "    'AMGN' : amgn,\n",
    "    'ABT' : abt\n",
    "}\n",
    "\n",
    "#Print the entire value for PFE\n",
    "print(price_dict['PFE'])\n",
    "\n",
    "\n",
    "# Print the price target for AMGN\n",
    "\n",
    "print(price_dict['AMGN'][1])"
   ]
  },
  {
   "cell_type": "code",
   "execution_count": 28,
   "metadata": {},
   "outputs": [],
   "source": [
    "# Dictionary Functions\n",
    "# .key() shows you the dict keys\n",
    "# .values() shows the dict values\n",
    "# .items() shows you the items \n",
    "\n",
    "\n",
    "healthcare_beta_values = {  \n",
    "    'JNJ' : 0.86,\n",
    "    'UNH' : 0.97,\n",
    "    'PFE' : 0.81,\n",
    "    'ABBV' : 1.39,\n",
    "    'AMGN' : 1.05,\n",
    "    'ABT' : 1.07, \n",
    "}\n"
   ]
  },
  {
   "cell_type": "code",
   "execution_count": 29,
   "metadata": {},
   "outputs": [
    {
     "data": {
      "text/plain": [
       "dict_keys(['JNJ', 'UNH', 'PFE', 'ABBV', 'AMGN', 'ABT'])"
      ]
     },
     "execution_count": 29,
     "metadata": {},
     "output_type": "execute_result"
    }
   ],
   "source": [
    "healthcare_beta_values.keys()"
   ]
  },
  {
   "cell_type": "code",
   "execution_count": 30,
   "metadata": {},
   "outputs": [
    {
     "data": {
      "text/plain": [
       "dict_values([0.86, 0.97, 0.81, 1.39, 1.05, 1.07])"
      ]
     },
     "execution_count": 30,
     "metadata": {},
     "output_type": "execute_result"
    }
   ],
   "source": [
    "healthcare_beta_values.values()"
   ]
  },
  {
   "cell_type": "code",
   "execution_count": 31,
   "metadata": {},
   "outputs": [
    {
     "data": {
      "text/plain": [
       "dict_items([('JNJ', 0.86), ('UNH', 0.97), ('PFE', 0.81), ('ABBV', 1.39), ('AMGN', 1.05), ('ABT', 1.07)])"
      ]
     },
     "execution_count": 31,
     "metadata": {},
     "output_type": "execute_result"
    }
   ],
   "source": [
    "healthcare_beta_values.items()"
   ]
  },
  {
   "cell_type": "code",
   "execution_count": 32,
   "metadata": {},
   "outputs": [],
   "source": [
    "# adding, changing. and deleting dictionary items \n",
    "\n",
    "healthcare_beta_values['MRK'] = 0.65"
   ]
  },
  {
   "cell_type": "code",
   "execution_count": 33,
   "metadata": {},
   "outputs": [
    {
     "data": {
      "text/plain": [
       "dict_keys(['JNJ', 'UNH', 'PFE', 'ABBV', 'AMGN', 'ABT', 'MRK'])"
      ]
     },
     "execution_count": 33,
     "metadata": {},
     "output_type": "execute_result"
    }
   ],
   "source": [
    "healthcare_beta_values.keys()"
   ]
  },
  {
   "cell_type": "code",
   "execution_count": 34,
   "metadata": {},
   "outputs": [
    {
     "data": {
      "text/plain": [
       "0.65"
      ]
     },
     "execution_count": 34,
     "metadata": {},
     "output_type": "execute_result"
    }
   ],
   "source": [
    "healthcare_beta_values['MRK']"
   ]
  },
  {
   "cell_type": "code",
   "execution_count": 36,
   "metadata": {},
   "outputs": [],
   "source": [
    "# Remove an item from Dict\n",
    "\n",
    "del healthcare_beta_values['JNJ']"
   ]
  },
  {
   "cell_type": "code",
   "execution_count": 38,
   "metadata": {},
   "outputs": [
    {
     "name": "stdout",
     "output_type": "stream",
     "text": [
      "{'UNH': 0.97, 'PFE': 0.81, 'ABBV': 1.39, 'AMGN': 1.05, 'ABT': 1.07, 'MRK': 0.65}\n"
     ]
    }
   ],
   "source": [
    "print(healthcare_beta_values)"
   ]
  },
  {
   "cell_type": "markdown",
   "metadata": {},
   "source": [
    "<font color = 'blue'> **EXERCISE 4.2** </font>"
   ]
  },
  {
   "cell_type": "code",
   "execution_count": 39,
   "metadata": {},
   "outputs": [
    {
     "name": "stdout",
     "output_type": "stream",
     "text": [
      "[69.98, 74.53]\n"
     ]
    },
    {
     "data": {
      "text/plain": [
       "dict_keys(['UNH', 'PFE', 'ABBV', 'AMGN', 'ABT', 'MRK'])"
      ]
     },
     "execution_count": 39,
     "metadata": {},
     "output_type": "execute_result"
    }
   ],
   "source": [
    "# 1.) Create a new item called “MRK” with current price 69.98 and target price 74.53, and then print the entire value of “MRK”\n",
    "# 2.) Remove “JNJ” and print the dictionary keys\n",
    "\n",
    "price_dict['MRK'] = [69.98, 74.53]\n",
    "print(price_dict['MRK'])\n",
    "del price_dict['JNJ']\n",
    "price_dict.keys()\n"
   ]
  },
  {
   "cell_type": "code",
   "execution_count": null,
   "metadata": {},
   "outputs": [],
   "source": []
  }
 ],
 "metadata": {
  "kernelspec": {
   "display_name": "Python 3",
   "language": "python",
   "name": "python3"
  },
  "language_info": {
   "codemirror_mode": {
    "name": "ipython",
    "version": 3
   },
   "file_extension": ".py",
   "mimetype": "text/x-python",
   "name": "python",
   "nbconvert_exporter": "python",
   "pygments_lexer": "ipython3",
   "version": "3.8.3"
  }
 },
 "nbformat": 4,
 "nbformat_minor": 2
}
