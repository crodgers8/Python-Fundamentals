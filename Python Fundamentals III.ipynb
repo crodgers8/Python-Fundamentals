{
 "cells": [
  {
   "cell_type": "markdown",
   "metadata": {},
   "source": [
    "# Python Fundamentals III\n",
    "Welcome to the third lesson! This Jupyter Notebook file is meant to accompany **L03 - Python Fundamentals III**."
   ]
  },
  {
   "cell_type": "markdown",
   "metadata": {},
   "source": [
    "Type your solutions for each exercise in the code cells below, and then press **Shift + Enter** to execute your code. Then, check the solution video to see how you did!"
   ]
  },
  {
   "cell_type": "markdown",
   "metadata": {},
   "source": [
    "### 1. Creating Custom Functions"
   ]
  },
  {
   "cell_type": "markdown",
   "metadata": {},
   "source": [
    "<font color = 'blue'> **EXERCISE 1.1** </font>"
   ]
  },
  {
   "cell_type": "code",
   "execution_count": 5,
   "metadata": {},
   "outputs": [
    {
     "name": "stdout",
     "output_type": "stream",
     "text": [
      "1.39\n",
      "0.81\n"
     ]
    }
   ],
   "source": [
    "beta_values = [0.86, 0.97, 0.81, 1.39, 1.05, 1.07]\n",
    "print(max(beta_values))\n",
    "print(min(beta_values))"
   ]
  },
  {
   "cell_type": "code",
   "execution_count": 6,
   "metadata": {},
   "outputs": [],
   "source": [
    "# Custom function contains 3 parts \n",
    "# 1.) def - means a function is being defined\n",
    "# 2.) The new name of the function followed by () and a :\n",
    "# 3.) indented code block that defines what the function does"
   ]
  },
  {
   "cell_type": "code",
   "execution_count": 7,
   "metadata": {},
   "outputs": [
    {
     "name": "stdout",
     "output_type": "stream",
     "text": [
      "0.81\n",
      "1.39\n"
     ]
    }
   ],
   "source": [
    "# Creating a custom function \n",
    "\n",
    "def min_max() :\n",
    "    print(min(beta_values))\n",
    "    print(max(beta_values))\n",
    "    \n",
    "min_max()"
   ]
  },
  {
   "cell_type": "code",
   "execution_count": 9,
   "metadata": {},
   "outputs": [
    {
     "name": "stdout",
     "output_type": "stream",
     "text": [
      "0.81\n",
      "1.39\n"
     ]
    }
   ],
   "source": [
    "def new_min_max(list_argument) :\n",
    "    print(min(list_argument))\n",
    "    print(max(list_argument))\n",
    "\n",
    "new_min_max(beta_values)\n",
    "    "
   ]
  },
  {
   "cell_type": "code",
   "execution_count": 11,
   "metadata": {},
   "outputs": [
    {
     "name": "stdout",
     "output_type": "stream",
     "text": [
      "1\n",
      "3\n"
     ]
    }
   ],
   "source": [
    "list_1 = [1, 2, 3]\n",
    "\n",
    "new_min_max(list_1)"
   ]
  },
  {
   "cell_type": "code",
   "execution_count": 19,
   "metadata": {},
   "outputs": [
    {
     "name": "stdout",
     "output_type": "stream",
     "text": [
      "133\n"
     ]
    }
   ],
   "source": [
    "# Future value = Investment x (1 + growth rate) ^ years\n",
    "# If you want to have multiple arguments in your function, follow the format: function(arg_1, arg_2, arg_3)\n",
    "# Use the round function to make your output clean: round(number, decimal_places)\n",
    "\n",
    "# Investment: 100\n",
    "# Growth rate: 0.1\n",
    "# Years: 3\n",
    "# Future Value: 133.1\n",
    "\n",
    "def future_value(investment, growth_rate, years) :\n",
    "    print(round(investment * (1 + growth_rate) ** years))\n",
    "\n",
    "future_value(100, .1, 3)"
   ]
  },
  {
   "cell_type": "code",
   "execution_count": 20,
   "metadata": {},
   "outputs": [],
   "source": [
    "# Adding aruguments to custom functions \n",
    "\n",
    "metrics_1 = [100, .2, 2]\n",
    "metrics_2 = [100, .1, 6]\n",
    "metrics_3 = [100, .22, 3]\n",
    "metrics_4 = [100, .15, 1]\n",
    "metrics_5 = [100, .08, 4]\n",
    "\n"
   ]
  },
  {
   "cell_type": "code",
   "execution_count": 24,
   "metadata": {},
   "outputs": [
    {
     "name": "stdout",
     "output_type": "stream",
     "text": [
      "144\n",
      "None\n",
      "144\n"
     ]
    }
   ],
   "source": [
    "def new_future_value(metrics_list) :\n",
    "    return round(metrics_list[0]*(1+metrics_list[1])**metrics_list[2])\n",
    "\n",
    "print(future_value(100, .2, 2))\n",
    "print(new_future_value(metrics_1))"
   ]
  },
  {
   "cell_type": "markdown",
   "metadata": {},
   "source": [
    "### 2. For Loops"
   ]
  },
  {
   "cell_type": "markdown",
   "metadata": {},
   "source": [
    "<font color = 'blue'> **EXERCISE 2.1** </font>"
   ]
  },
  {
   "cell_type": "code",
   "execution_count": 2,
   "metadata": {},
   "outputs": [],
   "source": [
    "# Run this code cell to create the price lists below\n",
    "jnj = [139.49, 144.20]\n",
    "unh = [265.31, 284.14]\n",
    "pfe = [42.96, 43.06]\n",
    "abbv = [95.68, 107.44]\n",
    "amgn = [200.58, 205.9]\n",
    "abt = [68.42, 71.06]"
   ]
  },
  {
   "cell_type": "code",
   "execution_count": 3,
   "metadata": {},
   "outputs": [
    {
     "name": "stdout",
     "output_type": "stream",
     "text": [
      "0.034\n",
      "0.071\n",
      "0.002\n",
      "0.123\n",
      "0.027\n",
      "0.039\n"
     ]
    }
   ],
   "source": [
    "def calculate_return_on_investment(price_list):\n",
    "    return (price_list[1] - price_list[0]) / price_list[0]\n",
    "\n",
    "companies = [jnj, unh, pfe, abbv, amgn, abt]\n",
    "\n",
    "for ticker in companies :\n",
    "    print(round(calculate_return_on_investment(ticker), 3))"
   ]
  },
  {
   "cell_type": "markdown",
   "metadata": {},
   "source": [
    "<font color = 'blue'> **EXERCISE 2.2** </font>"
   ]
  },
  {
   "cell_type": "code",
   "execution_count": 4,
   "metadata": {},
   "outputs": [
    {
     "name": "stdout",
     "output_type": "stream",
     "text": [
      "[139.49, 265.31, 42.96, 95.68, 200.58, 68.42]\n",
      "[144.2, 284.14, 43.06, 107.44, 205.9, 71.06]\n",
      "[0.034, 0.071, 0.002, 0.123, 0.027, 0.039]\n"
     ]
    }
   ],
   "source": [
    "for ticker in companies :\n",
    "    roi = round(calculate_return_on_investment(ticker), 3)\n",
    "    ticker.append(roi)\n",
    "    \n",
    "current_prices = []\n",
    "target_prices = []\n",
    "roi_calculations = []\n",
    "\n",
    "for ticker in companies :\n",
    "    current_prices.append(ticker[0])\n",
    "    target_prices.append(ticker[1])\n",
    "    roi_calculations.append(ticker[2])\n",
    "    \n",
    "print(current_prices)\n",
    "print(target_prices)\n",
    "print(roi_calculations)"
   ]
  },
  {
   "cell_type": "markdown",
   "metadata": {},
   "source": [
    "### 3. Conditional Logic"
   ]
  },
  {
   "cell_type": "markdown",
   "metadata": {},
   "source": [
    "<font color = 'blue'> **EXERCISE 3.1** </font>"
   ]
  },
  {
   "cell_type": "code",
   "execution_count": 5,
   "metadata": {},
   "outputs": [],
   "source": [
    "roi_dict = {\n",
    "    'jnj' : 0.034,\n",
    "    'unh' : 0.071,\n",
    "    'pfe' : 0.002,\n",
    "    'abbv' : 0.123,\n",
    "    'amgn' : 0.027,\n",
    "    'abt' : 0.039\n",
    "}"
   ]
  },
  {
   "cell_type": "code",
   "execution_count": 6,
   "metadata": {},
   "outputs": [
    {
     "name": "stdout",
     "output_type": "stream",
     "text": [
      "['abbv']\n",
      "['unh']\n",
      "['jnj', 'pfe', 'amgn', 'abt']\n"
     ]
    }
   ],
   "source": [
    "buy_recommendations = []\n",
    "hold_recommendations = []\n",
    "sell_recommendations = []\n",
    "\n",
    "for key in roi_dict :\n",
    "    if roi_dict[key] > 0.1 :\n",
    "        buy_recommendations.append(key)\n",
    "    elif roi_dict[key] > 0.05 :\n",
    "        hold_recommendations.append(key)\n",
    "    else :\n",
    "        sell_recommendations.append(key)\n",
    "        \n",
    "print(buy_recommendations)\n",
    "print(hold_recommendations)\n",
    "print(sell_recommendations)"
   ]
  },
  {
   "cell_type": "code",
   "execution_count": null,
   "metadata": {},
   "outputs": [],
   "source": []
  }
 ],
 "metadata": {
  "kernelspec": {
   "display_name": "Python 3 (ipykernel)",
   "language": "python",
   "name": "python3"
  },
  "language_info": {
   "codemirror_mode": {
    "name": "ipython",
    "version": 3
   },
   "file_extension": ".py",
   "mimetype": "text/x-python",
   "name": "python",
   "nbconvert_exporter": "python",
   "pygments_lexer": "ipython3",
   "version": "3.9.12"
  }
 },
 "nbformat": 4,
 "nbformat_minor": 2
}
